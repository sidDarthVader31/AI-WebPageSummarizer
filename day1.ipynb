{
 "cells": [
  {
   "cell_type": "code",
   "execution_count": 35,
   "id": "973b146e-03bc-4326-80a0-56e78dc468bc",
   "metadata": {},
   "outputs": [
    {
     "name": "stdout",
     "output_type": "stream",
     "text": [
      "api key successfully imported\n"
     ]
    }
   ],
   "source": [
    "import os\n",
    "import requests\n",
    "from dotenv import load_dotenv\n",
    "from bs4 import BeautifulSoup\n",
    "from IPython.display import Markdown, display\n",
    "load_dotenv()\n",
    "api_key = os.getenv('API_KEY')\n",
    "if not api_key:\n",
    "    print('no api key found')\n",
    "else:\n",
    "    print('api key successfully imported')\n"
   ]
  },
  {
   "cell_type": "code",
   "execution_count": 57,
   "id": "5f3b2ba7-17fc-45f1-86b3-ff5fb8634fb3",
   "metadata": {
    "scrolled": true
   },
   "outputs": [],
   "source": [
    "def ask_perplexity(messages, model=\"sonar-pro\", max_tokens=800, temperature=0.7):\n",
    "    \"\"\"\n",
    "    Send a prompt to Perplexity API and return the assistant's reply.\n",
    "    - prompt: User message (string)\n",
    "    - model: Perplexity model to use (default: 'sonar-medium-online'); change if needed\n",
    "    - max_tokens: Max tokens in response\n",
    "    - temperature: Sampling temperature [0.0-2.0]\n",
    "    \"\"\"\n",
    "    if not api_key:\n",
    "        raise ValueError(\"PERPLEXITY_API_KEY environment variable not set.\")\n",
    "    \n",
    "    url = \"https://api.perplexity.ai/chat/completions\"\n",
    "    payload = {\n",
    "        \"model\": model,\n",
    "        \"messages\":messages,\n",
    "        \"max_tokens\": max_tokens,\n",
    "        \"temperature\": temperature\n",
    "    }\n",
    "    headers = {\n",
    "        \"Authorization\": f\"Bearer {api_key}\",\n",
    "        \"Content-Type\": \"application/json\"\n",
    "    }\n",
    "\n",
    "    response = requests.post(url, json=payload, headers=headers)\n",
    "    response.raise_for_status()\n",
    "    data = response.json()\n",
    "    return data[\"choices\"][0][\"message\"][\"content\"]"
   ]
  },
  {
   "cell_type": "code",
   "execution_count": 37,
   "id": "507db4c0-61a2-4506-828e-2553d4f38407",
   "metadata": {},
   "outputs": [],
   "source": [
    "headers = {\n",
    " \"User-Agent\": \"Mozilla/5.0 (Windows NT 10.0; Win64; x64) AppleWebKit/537.36 (KHTML, like Gecko) Chrome/117.0.0.0 Safari/537.36\"\n",
    "}\n",
    "class Website:\n",
    "    def __init__(self, url):\n",
    "        self.url =url;\n",
    "        response = requests.get(url, headers);\n",
    "        soup = BeautifulSoup(response.content, 'html.parser')\n",
    "        self.title = soup.title.string if soup.title else 'No Title Found'\n",
    "        for irrelevant in soup.body(['scripts','style','img','input']):\n",
    "            irrelevant.decompose()\n",
    "        self.text = soup.body.get_text(separator=\"\\n\", strip=True)\n",
    "        "
   ]
  },
  {
   "cell_type": "code",
   "execution_count": 39,
   "id": "e4e124b6-873e-430b-acd1-7c2106023aa7",
   "metadata": {},
   "outputs": [],
   "source": [
    "# Define our system prompt - you can experiment with this later, changing the last sentence to 'Respond in markdown in Spanish.\"\n",
    "\n",
    "system_prompt = \"You are an assistant that analyzes the contents of a website \\\n",
    "and provides a short summary, ignoring text that might be navigation related. \\\n",
    "Respond in markdown.\""
   ]
  },
  {
   "cell_type": "code",
   "execution_count": 40,
   "id": "6eaf9c59-e432-4835-8d53-436ee0693e0e",
   "metadata": {},
   "outputs": [],
   "source": [
    "# A function that writes a User Prompt that asks for summaries of websites:\n",
    "\n",
    "def user_prompt_for(website):\n",
    "    user_prompt = f\"You are looking at a website titled {website.title}\"\n",
    "    user_prompt += \"\\nThe contents of this website is as follows; \\\n",
    "please provide a short summary of this website in markdown. \\\n",
    "If it includes news or announcements, then summarize these too.\\n\\n\"\n",
    "    user_prompt += website.text\n",
    "    return user_prompt"
   ]
  },
  {
   "cell_type": "code",
   "execution_count": 41,
   "id": "5f32394f-e4c5-4d81-9744-06b2ace4d0fb",
   "metadata": {},
   "outputs": [],
   "source": [
    "def messages_for(website):\n",
    "    return [\n",
    "        {\"role\": \"system\", \"content\": system_prompt},\n",
    "        {\"role\": \"user\", \"content\": user_prompt_for(website)}\n",
    "    ]"
   ]
  },
  {
   "cell_type": "code",
   "execution_count": 55,
   "id": "dbb37b40-76c6-4ae0-ae8e-b14a18633bb2",
   "metadata": {},
   "outputs": [],
   "source": [
    "# And now: call the perplexioty API.\n",
    "\n",
    "def summarize(url):\n",
    "    website = Website(url)\n",
    "    response = ask_perplexity(\n",
    "        messages = messages_for(website)\n",
    "    )\n",
    "    return response"
   ]
  },
  {
   "cell_type": "code",
   "execution_count": 47,
   "id": "25c5c516-a1ab-4fdd-af78-f327faca5c25",
   "metadata": {},
   "outputs": [],
   "source": [
    "def display_summary(url):\n",
    "    summary = summarize(url)\n",
    "    display(Markdown(summary))"
   ]
  },
  {
   "cell_type": "code",
   "execution_count": 59,
   "id": "92283b22-a607-4a5d-acde-e012a1c739b4",
   "metadata": {},
   "outputs": [
    {
     "data": {
      "text/markdown": [
       "CNN’s website provides **breaking news, latest updates, and video coverage** across a wide range of topics including US and world events, politics, business, health, entertainment, sports, science, climate, and major ongoing conflicts like the Ukraine-Russia and Israel-Hamas wars.\n",
       "\n",
       "Key highlights and recent news include:\n",
       "- Coverage of a **Minneapolis school shooting** resulting in the deaths of two children and injuries to several others.\n",
       "- Updates on **Trump’s meetings regarding Gaza** and the UN’s calls for accountability over a Gaza hospital attack.\n",
       "- Reports on **UN nuclear inspectors returning to Iran**, protests in Tel Aviv, and Denmark summoning the US envoy over covert influence concerns.\n",
       "- Features on **SpaceX’s rocket launch**, **Naomi Osaka’s win at the US Open**, and a **bizarre engagement announcement for Taylor Swift and Travis Kelce**.\n",
       "- Climate and science stories, such as the impact of climate change on ocean pH and rising cases of flesh-eating bacteria, as well as advances in robotics and space exploration.\n",
       "- Political analysis on topics like **Trump’s influence on the Federal Reserve**, upcoming elections, and investigations into figures like Jeffrey Epstein.\n",
       "- Lifestyle, travel, and wellness articles including sustainability tips, Mediterranean diet research, and unusual global stories.\n",
       "\n",
       "The site also offers interactive content such as games and podcasts, and seeks user feedback to improve ad and video experiences."
      ],
      "text/plain": [
       "<IPython.core.display.Markdown object>"
      ]
     },
     "metadata": {},
     "output_type": "display_data"
    }
   ],
   "source": [
    "display_summary(\"https://cnn.com\")"
   ]
  },
  {
   "cell_type": "code",
   "execution_count": null,
   "id": "48c08eaa-067f-42be-bdea-740a0e084719",
   "metadata": {},
   "outputs": [],
   "source": []
  }
 ],
 "metadata": {
  "kernelspec": {
   "display_name": "Python 3 (ipykernel)",
   "language": "python",
   "name": "python3"
  },
  "language_info": {
   "codemirror_mode": {
    "name": "ipython",
    "version": 3
   },
   "file_extension": ".py",
   "mimetype": "text/x-python",
   "name": "python",
   "nbconvert_exporter": "python",
   "pygments_lexer": "ipython3",
   "version": "3.11.13"
  }
 },
 "nbformat": 4,
 "nbformat_minor": 5
}
